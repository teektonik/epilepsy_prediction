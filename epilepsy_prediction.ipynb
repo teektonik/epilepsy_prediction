{
 "cells": [
  {
   "cell_type": "code",
   "execution_count": 351,
   "id": "4a3e17c2",
   "metadata": {},
   "outputs": [],
   "source": [
    "import os\n",
    "from importlib import reload\n",
    "import torch\n",
    "import torch.nn as nn\n",
    "from torch.utils.data import Dataset\n",
    "import numpy as np\n",
    "import pandas as pd\n",
    "import dataset_formatter\n",
    "reload(dataset_formatter)\n",
    "from dataset_formatter import DatasetFormatter "
   ]
  },
  {
   "cell_type": "code",
   "execution_count": 352,
   "id": "79ce85ec",
   "metadata": {},
   "outputs": [],
   "source": [
    "import torch\n",
    "from torch.utils.data import Dataset, DataLoader, random_split\n",
    "import lightning as L\n",
    "import dataset\n",
    "reload(dataset)\n",
    "from model import BaselineModel\n",
    "from dataset import RawEpilepsyDataset\n",
    "from dataset_formatter import DatasetFormatter\n",
    "import model_arguments\n",
    "reload (model_arguments)\n",
    "from model_arguments import ModelArguments"
   ]
  },
  {
   "cell_type": "code",
   "execution_count": 319,
   "id": "c01b4c5e",
   "metadata": {},
   "outputs": [],
   "source": [
    "dataset = DatasetFormatter('/workspace/data_seerpy/data_seerpy/data/')"
   ]
  },
  {
   "cell_type": "code",
   "execution_count": null,
   "id": "b729c94c",
   "metadata": {},
   "outputs": [],
   "source": [
    "dataset.preprocess('/workspace/new_data/')"
   ]
  },
  {
   "cell_type": "code",
   "execution_count": 359,
   "id": "8edcd9b1",
   "metadata": {},
   "outputs": [],
   "source": [
    "arguments = ModelArguments(\n",
    "    '/workspace/new_data/', \n",
    "    '/workspace/labels.csv', \n",
    "    ['Acc x', 'Acc y', 'Acc z', 'Acc Mag', 'EDA', 'BVP'],\n",
    "    True,\n",
    "    use_raw_data=True,\n",
    ")\n",
    "\n",
    "epilepsy_dataset = RawEpilepsyDataset(arguments)"
   ]
  },
  {
   "cell_type": "code",
   "execution_count": 360,
   "id": "59a88346",
   "metadata": {},
   "outputs": [],
   "source": [
    "train_size = int(0.7 * len(epilepsy_dataset))\n",
    "test_size = len(epilepsy_dataset) - train_size\n",
    "\n",
    "train_dataset, test_dataset = random_split(epilepsy_dataset, [train_size, test_size])\n",
    "\n",
    "train_dataloader = DataLoader(epilepsy_dataset, batch_size=16, shuffle=True, num_workers=4)\n",
    "test_dataloader = DataLoader(test_dataset, batch_size=16, shuffle=False, num_workers=4)\n"
   ]
  },
  {
   "cell_type": "code",
   "execution_count": 361,
   "id": "b2c60817",
   "metadata": {},
   "outputs": [],
   "source": [
    "model = BaselineModel(arguments.number_of_channels)"
   ]
  },
  {
   "cell_type": "code",
   "execution_count": null,
   "id": "9851c0f8",
   "metadata": {},
   "outputs": [],
   "source": [
    "trainer = L.Trainer(max_epochs=50, logger=True)\n",
    "trainer.fit(model=model, train_dataloaders=train_dataloader)"
   ]
  },
  {
   "cell_type": "code",
   "execution_count": null,
   "id": "2511749f",
   "metadata": {},
   "outputs": [],
   "source": [
    "trainer.test(dataloaders=test_dataloader, ckpt_path='best')"
   ]
  },
  {
   "cell_type": "code",
   "execution_count": null,
   "id": "5293436b",
   "metadata": {},
   "outputs": [],
   "source": []
  },
  {
   "cell_type": "code",
   "execution_count": null,
   "id": "37f1baa4",
   "metadata": {},
   "outputs": [],
   "source": []
  }
 ],
 "metadata": {
  "kernelspec": {
   "display_name": "Python 3 (ipykernel)",
   "language": "python",
   "name": "python3"
  },
  "language_info": {
   "codemirror_mode": {
    "name": "ipython",
    "version": 3
   },
   "file_extension": ".py",
   "mimetype": "text/x-python",
   "name": "python",
   "nbconvert_exporter": "python",
   "pygments_lexer": "ipython3",
   "version": "3.10.12"
  }
 },
 "nbformat": 4,
 "nbformat_minor": 5
}