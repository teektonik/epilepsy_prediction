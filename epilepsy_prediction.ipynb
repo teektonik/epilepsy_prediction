{
 "cells": [
  {
   "cell_type": "code",
   "execution_count": 214,
   "id": "ccea7699",
   "metadata": {},
   "outputs": [],
   "source": [
    "import os\n",
    "from importlib import reload\n",
    "import torch\n",
    "import torch.nn as nn\n",
    "from torch.utils.data import Dataset\n",
    "import numpy as np\n",
    "import pandas as pd\n",
    "import dataset_formatter\n",
    "reload(dataset_formatter)\n",
    "from dataset_formatter import DatasetFormatter "
   ]
  },
  {
   "cell_type": "code",
   "execution_count": 215,
   "id": "8c822537",
   "metadata": {},
   "outputs": [],
   "source": [
    "import torch\n",
    "from torch.utils.data import Dataset, DataLoader, random_split\n",
    "import lightning as L\n",
    "import dataset\n",
    "reload(dataset)\n",
    "from model import BaselineModel\n",
    "from dataset import EpilepsyDataset\n",
    "from dataset_formatter import DatasetFormatter"
   ]
  },
  {
   "cell_type": "code",
   "execution_count": 208,
   "id": "e677c1d6",
   "metadata": {},
   "outputs": [],
   "source": [
    "dataset = DatasetFormatter('/workspace/data_seerpy/data_seerpy/data/')"
   ]
  },
  {
   "cell_type": "code",
   "execution_count": null,
   "id": "48fed872",
   "metadata": {},
   "outputs": [],
   "source": [
    "dataset.preprocess('/workspace/new_data/')"
   ]
  },
  {
   "cell_type": "code",
   "execution_count": 211,
   "id": "0fe6fede",
   "metadata": {},
   "outputs": [],
   "source": [
    "epilepsy_dataset = EpilepsyDataset(\n",
    "    '/workspace/labels.csv', \n",
    "    '/workspace/new_data/', \n",
    "    ['Acc x', 'Acc y', 'Acc z', 'Acc Mag', 'BVP', 'EDA'],\n",
    "    23040, True, True\n",
    ")"
   ]
  },
  {
   "cell_type": "code",
   "execution_count": 202,
   "id": "16747343",
   "metadata": {},
   "outputs": [],
   "source": [
    "train_size = int(0.7 * len(epilepsy_dataset))\n",
    "test_size = len(epilepsy_dataset) - train_size\n",
    "\n",
    "train_dataset, test_dataset = random_split(epilepsy_dataset, [train_size, test_size])\n",
    "\n",
    "train_dataloader = DataLoader(epilepsy_dataset, batch_size=16, shuffle=True, num_workers=4)\n",
    "test_dataloader = DataLoader(test_dataset, batch_size=16, shuffle=False, num_workers=4)\n"
   ]
  },
  {
   "cell_type": "code",
   "execution_count": 203,
   "id": "bc4a53d3",
   "metadata": {},
   "outputs": [],
   "source": [
    "model = BaselineModel(19)"
   ]
  },
  {
   "cell_type": "code",
   "execution_count": 204,
   "id": "65f41f25",
   "metadata": {},
   "outputs": [
    {
     "name": "stderr",
     "output_type": "stream",
     "text": [
      "GPU available: True (cuda), used: True\n",
      "TPU available: False, using: 0 TPU cores\n",
      "IPU available: False, using: 0 IPUs\n",
      "HPU available: False, using: 0 HPUs\n",
      "/usr/local/lib/python3.10/dist-packages/lightning/pytorch/trainer/configuration_validator.py:74: You defined a `validation_step` but have no `val_dataloader`. Skipping val loop.\n",
      "LOCAL_RANK: 0 - CUDA_VISIBLE_DEVICES: [0]\n",
      "\n",
      "  | Name       | Type             | Params\n",
      "------------------------------------------------\n",
      "0 | rnn        | LSTM             | 472 K \n",
      "1 | fc         | Linear           | 66.0 K\n",
      "2 | fc2        | Linear           | 1.0 K \n",
      "3 | sigmoid    | Sigmoid          | 0     \n",
      "4 | relu       | ReLU             | 0     \n",
      "5 | criterion  | CrossEntropyLoss | 0     \n",
      "6 | acc_metric | BinaryAccuracy   | 0     \n",
      "7 | f1_score   | BinaryF1Score    | 0     \n",
      "8 | recall     | BinaryRecall     | 0     \n",
      "9 | precision  | BinaryPrecision  | 0     \n",
      "------------------------------------------------\n",
      "539 K     Trainable params\n",
      "0         Non-trainable params\n",
      "539 K     Total params\n",
      "2.159     Total estimated model params size (MB)\n",
      "/usr/local/lib/python3.10/dist-packages/lightning/pytorch/loops/fit_loop.py:298: The number of training batches (24) is smaller than the logging interval Trainer(log_every_n_steps=50). Set a lower value for log_every_n_steps if you want to see logs for the training epoch.\n"
     ]
    },
    {
     "name": "stdout",
     "output_type": "stream",
     "text": [
      "Epoch 99: 100%|████████████████████████████████████████| 24/24 [00:20<00:00,  1.16it/s, v_num=56, train_loss=0.297, train_acc=0.750, train_f1=0.667, train_recall=0.500, train_precision=1.000]"
     ]
    },
    {
     "name": "stderr",
     "output_type": "stream",
     "text": [
      "`Trainer.fit` stopped: `max_epochs=100` reached.\n"
     ]
    },
    {
     "name": "stdout",
     "output_type": "stream",
     "text": [
      "Epoch 99: 100%|████████████████████████████████████████| 24/24 [00:20<00:00,  1.16it/s, v_num=56, train_loss=0.297, train_acc=0.750, train_f1=0.667, train_recall=0.500, train_precision=1.000]\n"
     ]
    }
   ],
   "source": [
    "trainer = L.Trainer(max_epochs=100, logger=True)\n",
    "trainer.fit(model=model, train_dataloaders=train_dataloader)"
   ]
  },
  {
   "cell_type": "code",
   "execution_count": 205,
   "id": "8b973db7",
   "metadata": {},
   "outputs": [
    {
     "name": "stderr",
     "output_type": "stream",
     "text": [
      "Restoring states from the checkpoint path at /workspace/team_workspace/hotinfdensedot/epilepsy_prediction/lightning_logs/version_56/checkpoints/epoch=99-step=2400.ckpt\n",
      "LOCAL_RANK: 0 - CUDA_VISIBLE_DEVICES: [0]\n",
      "Loaded model weights from the checkpoint at /workspace/team_workspace/hotinfdensedot/epilepsy_prediction/lightning_logs/version_56/checkpoints/epoch=99-step=2400.ckpt\n"
     ]
    },
    {
     "name": "stdout",
     "output_type": "stream",
     "text": [
      "Testing DataLoader 0: 100%|██████████████████████████████████████████████████████████████████████████████████████████████████████████████████████████████████████| 7/7 [00:03<00:00,  1.94it/s]\n"
     ]
    },
    {
     "data": {
      "text/html": [
       "<pre style=\"white-space:pre;overflow-x:auto;line-height:normal;font-family:Menlo,'DejaVu Sans Mono',consolas,'Courier New',monospace\">┏━━━━━━━━━━━━━━━━━━━━━━━━━━━┳━━━━━━━━━━━━━━━━━━━━━━━━━━━┓\n",
       "┃<span style=\"font-weight: bold\">        Test metric        </span>┃<span style=\"font-weight: bold\">       DataLoader 0        </span>┃\n",
       "┡━━━━━━━━━━━━━━━━━━━━━━━━━━━╇━━━━━━━━━━━━━━━━━━━━━━━━━━━┩\n",
       "│<span style=\"color: #008080; text-decoration-color: #008080\">         test_acc          </span>│<span style=\"color: #800080; text-decoration-color: #800080\">    0.8482142686843872     </span>│\n",
       "│<span style=\"color: #008080; text-decoration-color: #008080\">          test_f1          </span>│<span style=\"color: #800080; text-decoration-color: #800080\">    0.8422717452049255     </span>│\n",
       "│<span style=\"color: #008080; text-decoration-color: #008080\">         test_loss         </span>│<span style=\"color: #800080; text-decoration-color: #800080\">    0.3162534534931183     </span>│\n",
       "│<span style=\"color: #008080; text-decoration-color: #008080\">      test_precision       </span>│<span style=\"color: #800080; text-decoration-color: #800080\">    0.8187074661254883     </span>│\n",
       "│<span style=\"color: #008080; text-decoration-color: #008080\">        test_recall        </span>│<span style=\"color: #800080; text-decoration-color: #800080\">    0.8857709169387817     </span>│\n",
       "└───────────────────────────┴───────────────────────────┘\n",
       "</pre>\n"
      ],
      "text/plain": [
       "┏━━━━━━━━━━━━━━━━━━━━━━━━━━━┳━━━━━━━━━━━━━━━━━━━━━━━━━━━┓\n",
       "┃\u001b[1m \u001b[0m\u001b[1m       Test metric       \u001b[0m\u001b[1m \u001b[0m┃\u001b[1m \u001b[0m\u001b[1m      DataLoader 0       \u001b[0m\u001b[1m \u001b[0m┃\n",
       "┡━━━━━━━━━━━━━━━━━━━━━━━━━━━╇━━━━━━━━━━━━━━━━━━━━━━━━━━━┩\n",
       "│\u001b[36m \u001b[0m\u001b[36m        test_acc         \u001b[0m\u001b[36m \u001b[0m│\u001b[35m \u001b[0m\u001b[35m   0.8482142686843872    \u001b[0m\u001b[35m \u001b[0m│\n",
       "│\u001b[36m \u001b[0m\u001b[36m         test_f1         \u001b[0m\u001b[36m \u001b[0m│\u001b[35m \u001b[0m\u001b[35m   0.8422717452049255    \u001b[0m\u001b[35m \u001b[0m│\n",
       "│\u001b[36m \u001b[0m\u001b[36m        test_loss        \u001b[0m\u001b[36m \u001b[0m│\u001b[35m \u001b[0m\u001b[35m   0.3162534534931183    \u001b[0m\u001b[35m \u001b[0m│\n",
       "│\u001b[36m \u001b[0m\u001b[36m     test_precision      \u001b[0m\u001b[36m \u001b[0m│\u001b[35m \u001b[0m\u001b[35m   0.8187074661254883    \u001b[0m\u001b[35m \u001b[0m│\n",
       "│\u001b[36m \u001b[0m\u001b[36m       test_recall       \u001b[0m\u001b[36m \u001b[0m│\u001b[35m \u001b[0m\u001b[35m   0.8857709169387817    \u001b[0m\u001b[35m \u001b[0m│\n",
       "└───────────────────────────┴───────────────────────────┘\n"
      ]
     },
     "metadata": {},
     "output_type": "display_data"
    },
    {
     "data": {
      "text/plain": [
       "[{'test_loss': 0.3162534534931183,\n",
       "  'test_acc': 0.8482142686843872,\n",
       "  'test_f1': 0.8422717452049255,\n",
       "  'test_recall': 0.8857709169387817,\n",
       "  'test_precision': 0.8187074661254883}]"
      ]
     },
     "execution_count": 205,
     "metadata": {},
     "output_type": "execute_result"
    }
   ],
   "source": [
    "trainer.test(dataloaders=test_dataloader, ckpt_path='best')"
   ]
  },
  {
   "cell_type": "code",
   "execution_count": null,
   "id": "418763b1",
   "metadata": {},
   "outputs": [],
   "source": []
  },
  {
   "cell_type": "code",
   "execution_count": null,
   "id": "d2e55a3d",
   "metadata": {},
   "outputs": [],
   "source": []
  }
 ],
 "metadata": {
  "kernelspec": {
   "display_name": "Python 3 (ipykernel)",
   "language": "python",
   "name": "python3"
  },
  "language_info": {
   "codemirror_mode": {
    "name": "ipython",
    "version": 3
   },
   "file_extension": ".py",
   "mimetype": "text/x-python",
   "name": "python",
   "nbconvert_exporter": "python",
   "pygments_lexer": "ipython3",
   "version": "3.10.12"
  }
 },
 "nbformat": 4,
 "nbformat_minor": 5
}
