{
 "cells": [
  {
   "cell_type": "code",
   "execution_count": 51,
   "id": "f923e7f3",
   "metadata": {},
   "outputs": [],
   "source": [
    "import os\n",
    "import torch\n",
    "import torch.nn as nn\n",
    "from torch.utils.data import Dataset\n",
    "import numpy as np\n",
    "import pandas as pd"
   ]
  },
  {
   "cell_type": "code",
   "execution_count": 52,
   "id": "6fd5d264",
   "metadata": {},
   "outputs": [],
   "source": [
    "import torch\n",
    "from torch.utils.data import Dataset, DataLoader, random_split\n",
    "\n",
    "import lightning as L\n",
    "\n",
    "from model import BaselineModel\n",
    "from dataset import EpilepsyDataset"
   ]
  },
  {
   "cell_type": "code",
   "execution_count": 53,
   "id": "f7c43196",
   "metadata": {},
   "outputs": [],
   "source": [
    "epilepsy_dataset = EpilepsyDataset(\n",
    "    'new_labels.csv', \n",
    "    '/workspace/normalized_data/', \n",
    "    ['Acc x', 'Acc y', 'Acc z', 'Acc Mag', 'HR', 'BVP', 'EDA', 'TEMP'],\n",
    "    10801,\n",
    ")"
   ]
  },
  {
   "cell_type": "code",
   "execution_count": 54,
   "id": "ff9ba941",
   "metadata": {},
   "outputs": [],
   "source": [
    "train_size = int(0.8 * len(epilepsy_dataset))\n",
    "test_size = len(epilepsy_dataset) - train_size\n",
    "\n",
    "train_dataset, test_dataset = random_split(epilepsy_dataset, [train_size, test_size])\n",
    "\n",
    "train_dataloader = DataLoader(epilepsy_dataset, batch_size=4, shuffle=True, num_workers=4)\n",
    "test_dataloader = DataLoader(test_dataset, batch_size=4, shuffle=False, num_workers=4)"
   ]
  },
  {
   "cell_type": "code",
   "execution_count": 55,
   "id": "6098fdf0",
   "metadata": {},
   "outputs": [],
   "source": [
    "model = BaselineModel(16)"
   ]
  },
  {
   "cell_type": "code",
   "execution_count": null,
   "id": "d8c5ec71",
   "metadata": {},
   "outputs": [],
   "source": [
    "trainer = L.Trainer(max_epochs=40, logger=True)\n",
    "trainer.fit(model=model, train_dataloaders=train_dataloader)"
   ]
  },
  {
   "cell_type": "code",
   "execution_count": null,
   "id": "26a54377",
   "metadata": {},
   "outputs": [],
   "source": []
  }
 ],
 "metadata": {
  "kernelspec": {
   "display_name": "Python 3 (ipykernel)",
   "language": "python",
   "name": "python3"
  },
  "language_info": {
   "codemirror_mode": {
    "name": "ipython",
    "version": 3
   },
   "file_extension": ".py",
   "mimetype": "text/x-python",
   "name": "python",
   "nbconvert_exporter": "python",
   "pygments_lexer": "ipython3",
   "version": "3.10.12"
  }
 },
 "nbformat": 4,
 "nbformat_minor": 5
}
