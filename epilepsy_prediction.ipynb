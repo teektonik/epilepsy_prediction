{
 "cells": [
  {
   "cell_type": "markdown",
   "id": "4c2f8776",
   "metadata": {},
   "source": [
    "## Detecting epileptic seizures"
   ]
  },
  {
   "cell_type": "code",
   "execution_count": null,
   "id": "e1732640",
   "metadata": {},
   "outputs": [],
   "source": [
    "import os\n",
    "\n",
    "import numpy as np\n",
    "import pandas as pd\n",
    "\n",
    "import lightning as L\n",
    "from pytorch_lightning.loggers import WandbLogger\n",
    "from torch.utils.data import Dataset, DataLoader, random_split\n",
    "\n",
    "from model import LSTMDetector\n",
    "from dataset import EpilepsyDataset\n",
    "from dataset_formatter import DatasetFormatter\n",
    "from model_arguments import ModelArguments"
   ]
  },
  {
   "cell_type": "markdown",
   "id": "0b2f7b98",
   "metadata": {},
   "source": [
    "### Defining parameters (such as data paths, signals, etc.)"
   ]
  },
  {
   "cell_type": "code",
   "execution_count": null,
   "id": "819a35ff",
   "metadata": {},
   "outputs": [],
   "source": [
    "arguments = ModelArguments(\n",
    "    '/workspace/new_data/', \n",
    "    '/workspace/labels.csv', \n",
    "    ['Acc x', 'Acc y', 'Acc z', 'Acc Mag', 'EDA', 'BVP'],\n",
    "    True\n",
    ")"
   ]
  },
  {
   "cell_type": "markdown",
   "id": "825f4a7b",
   "metadata": {},
   "source": [
    "### Set the train and test datasets"
   ]
  },
  {
   "cell_type": "code",
   "execution_count": null,
   "id": "4ab7aed9",
   "metadata": {},
   "outputs": [],
   "source": [
    "epilepsy_dataset = EpilepsyDataset(arguments)"
   ]
  },
  {
   "cell_type": "code",
   "execution_count": null,
   "id": "ed8da67d",
   "metadata": {},
   "outputs": [],
   "source": [
    "train_size = int(0.7 * len(epilepsy_dataset))\n",
    "test_size = len(epilepsy_dataset) - train_size\n",
    "\n",
    "train_dataset, test_dataset = random_split(epilepsy_dataset, [train_size, test_size])\n",
    "\n",
    "train_dataloader = DataLoader(epilepsy_dataset, batch_size=16, shuffle=True, num_workers=4)\n",
    "test_dataloader = DataLoader(test_dataset, batch_size=16, shuffle=False, num_workers=4)"
   ]
  },
  {
   "cell_type": "markdown",
   "id": "712de31e",
   "metadata": {},
   "source": [
    "### Defining our model"
   ]
  },
  {
   "cell_type": "code",
   "execution_count": null,
   "id": "9191272f",
   "metadata": {},
   "outputs": [],
   "source": [
    "model = LSTMDetector(arguments.number_of_channels)"
   ]
  },
  {
   "cell_type": "markdown",
   "id": "91c1f038",
   "metadata": {},
   "source": [
    "### Training"
   ]
  },
  {
   "cell_type": "code",
   "execution_count": null,
   "id": "0c85d0e0",
   "metadata": {},
   "outputs": [],
   "source": [
    "wandb_logger = WandbLogger()\n",
    "\n",
    "trainer = L.Trainer(max_epochs=25, logger=wandb_logger)\n",
    "trainer.fit(model=model, train_dataloaders=train_dataloader)"
   ]
  },
  {
   "cell_type": "markdown",
   "id": "96bc0e8e",
   "metadata": {},
   "source": [
    "### Testing"
   ]
  },
  {
   "cell_type": "code",
   "execution_count": null,
   "id": "c3b7ce02",
   "metadata": {},
   "outputs": [],
   "source": [
    "trainer.test(dataloaders=test_dataloader, ckpt_path='best')"
   ]
  }
 ],
 "metadata": {
  "kernelspec": {
   "display_name": "Python 3 (ipykernel)",
   "language": "python",
   "name": "python3"
  },
  "language_info": {
   "codemirror_mode": {
    "name": "ipython",
    "version": 3
   },
   "file_extension": ".py",
   "mimetype": "text/x-python",
   "name": "python",
   "nbconvert_exporter": "python",
   "pygments_lexer": "ipython3",
   "version": "3.10.12"
  }
 },
 "nbformat": 4,
 "nbformat_minor": 5
}
