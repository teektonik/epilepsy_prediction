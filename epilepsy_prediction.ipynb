{
 "cells": [
  {
   "cell_type": "code",
   "execution_count": 236,
   "id": "9a9d544b",
   "metadata": {},
   "outputs": [],
   "source": [
    "import os\n",
    "import torch\n",
    "import pandas as pd"
   ]
  },
  {
   "cell_type": "code",
   "execution_count": 242,
   "id": "ecdc05dd",
   "metadata": {},
   "outputs": [],
   "source": [
    "class EpilepsyDataset:\n",
    "    def __init__(self, path_to_data: str):\n",
    "        self.path = path_to_data\n",
    "        self.folders_with_patients = os.listdir(self.path)\n",
    "        \n",
    "        self.patients_data = []\n",
    "        for patient in self.folders_with_patients:\n",
    "            self.patients_data.append(os.listdir(os.path.join(self.path + patient)))\n",
    "        \n",
    "    def get_patients_data(self):\n",
    "        return self.patients_data\n",
    "    \n",
    "    def _get_sorted_segments(self, sensor_folder: str) -> list[list]:\n",
    "        \"\"\"\n",
    "        Get types of sensors from folder and sort its data by number of segment\n",
    "        \"\"\"\n",
    "        \n",
    "        delimeter = '_'\n",
    "        sensors_files_names = list(map(lambda x: x.split(delimeter), \n",
    "                                       os.listdir(os.path.join(self.path + sensor_folder))))   \n",
    "        \n",
    "        cropped_sensors_files_names = list(map(lambda x: x[:-2], sensors_files_names))\n",
    "        \n",
    "        index_of_parameters = 3\n",
    "        unique_parameters = list(set(map(lambda x: x[index_of_parameters], cropped_sensors_files_names)))\n",
    "    \n",
    "        return_data = []\n",
    "        for unique_item in unique_parameters:\n",
    "            data = list(filter(lambda x: True if unique_item in x else False, sensors_files_names))\n",
    "            \n",
    "            index_of_segmens_number = 5\n",
    "            sorted_list = sorted(data, key=lambda x: int(x[index_of_segmens_number].split('.')[0]))\n",
    "            return_data.append(list(map(lambda x: delimeter.join(x), sorted_list)))\n",
    "        \n",
    "        return return_data \n",
    " "
   ]
  },
  {
   "cell_type": "code",
   "execution_count": 243,
   "id": "a48a769d",
   "metadata": {},
   "outputs": [
    {
     "data": {
      "text/html": [
       "<div>\n",
       "<style scoped>\n",
       "    .dataframe tbody tr th:only-of-type {\n",
       "        vertical-align: middle;\n",
       "    }\n",
       "\n",
       "    .dataframe tbody tr th {\n",
       "        vertical-align: top;\n",
       "    }\n",
       "\n",
       "    .dataframe thead th {\n",
       "        text-align: right;\n",
       "    }\n",
       "</style>\n",
       "<table border=\"1\" class=\"dataframe\">\n",
       "  <thead>\n",
       "    <tr style=\"text-align: right;\">\n",
       "      <th></th>\n",
       "      <th>time</th>\n",
       "      <th>data</th>\n",
       "    </tr>\n",
       "  </thead>\n",
       "  <tbody>\n",
       "    <tr>\n",
       "      <th>0</th>\n",
       "      <td>1.556308e+12</td>\n",
       "      <td>-4.499115e+10</td>\n",
       "    </tr>\n",
       "    <tr>\n",
       "      <th>1</th>\n",
       "      <td>1.556308e+12</td>\n",
       "      <td>-4.474488e+10</td>\n",
       "    </tr>\n",
       "    <tr>\n",
       "      <th>2</th>\n",
       "      <td>1.556308e+12</td>\n",
       "      <td>-4.449386e+10</td>\n",
       "    </tr>\n",
       "    <tr>\n",
       "      <th>3</th>\n",
       "      <td>1.556308e+12</td>\n",
       "      <td>-4.424286e+10</td>\n",
       "    </tr>\n",
       "    <tr>\n",
       "      <th>4</th>\n",
       "      <td>1.556308e+12</td>\n",
       "      <td>-4.399183e+10</td>\n",
       "    </tr>\n",
       "    <tr>\n",
       "      <th>...</th>\n",
       "      <td>...</td>\n",
       "      <td>...</td>\n",
       "    </tr>\n",
       "    <tr>\n",
       "      <th>20995</th>\n",
       "      <td>1.556560e+12</td>\n",
       "      <td>1.084900e+07</td>\n",
       "    </tr>\n",
       "    <tr>\n",
       "      <th>20996</th>\n",
       "      <td>1.556560e+12</td>\n",
       "      <td>1.084900e+07</td>\n",
       "    </tr>\n",
       "    <tr>\n",
       "      <th>20997</th>\n",
       "      <td>1.556560e+12</td>\n",
       "      <td>1.084900e+07</td>\n",
       "    </tr>\n",
       "    <tr>\n",
       "      <th>20998</th>\n",
       "      <td>1.556560e+12</td>\n",
       "      <td>1.084900e+07</td>\n",
       "    </tr>\n",
       "    <tr>\n",
       "      <th>20999</th>\n",
       "      <td>1.556560e+12</td>\n",
       "      <td>1.084900e+07</td>\n",
       "    </tr>\n",
       "  </tbody>\n",
       "</table>\n",
       "<p>128908000 rows × 2 columns</p>\n",
       "</div>"
      ],
      "text/plain": [
       "               time          data\n",
       "0      1.556308e+12 -4.499115e+10\n",
       "1      1.556308e+12 -4.474488e+10\n",
       "2      1.556308e+12 -4.449386e+10\n",
       "3      1.556308e+12 -4.424286e+10\n",
       "4      1.556308e+12 -4.399183e+10\n",
       "...             ...           ...\n",
       "20995  1.556560e+12  1.084900e+07\n",
       "20996  1.556560e+12  1.084900e+07\n",
       "20997  1.556560e+12  1.084900e+07\n",
       "20998  1.556560e+12  1.084900e+07\n",
       "20999  1.556560e+12  1.084900e+07\n",
       "\n",
       "[128908000 rows x 2 columns]"
      ]
     },
     "execution_count": 243,
     "metadata": {},
     "output_type": "execute_result"
    }
   ],
   "source": [
    "dataset = EpilepsyDataset('/workspace/data_seerpy/data_seerpy/data/')\n",
    "\n",
    "dataset._get_sorted_segments('MSEL_00172/Empatica-ACC/')"
   ]
  },
  {
   "cell_type": "code",
   "execution_count": 146,
   "id": "74ed9128",
   "metadata": {},
   "outputs": [],
   "source": [
    "import pyarrow as pa\n",
    "import pyarrow.parquet as pq\n",
    "\n",
    "import matplotlib.pyplot as plt\n",
    "%matplotlib inline\n",
    "\n",
    "schema = pa.schema([(\"time\", \"float64\"), (\"data\", \"float32\")])\n",
    "\n",
    "df = pd.read_parquet('/workspace/data_seerpy/data_seerpy/data/MSEL_00172/Empatica-TEMP/MSEL_00172_Empatica-TEMP_TEMP_segment_80.parquet', schema=schema)"
   ]
  },
  {
   "cell_type": "code",
   "execution_count": 147,
   "id": "e91f2a12",
   "metadata": {},
   "outputs": [
    {
     "data": {
      "image/png": "[encoded data removed]",
      "text/plain": [
       "<Figure size 640x480 with 1 Axes>"
      ]
     },
     "metadata": {},
     "output_type": "display_data"
    }
   ],
   "source": [
    "import numpy as np\n",
    "x = np.array(df['time'])\n",
    "y = np.array(df['data'])\n",
    "\n",
    "plt.plot(x, y)\n",
    "plt.show()"
   ]
  },
  {
   "cell_type": "code",
   "execution_count": null,
   "id": "aff59f82",
   "metadata": {},
   "outputs": [],
   "source": []
  }
 ],
 "metadata": {
  "kernelspec": {
   "display_name": "Python 3 (ipykernel)",
   "language": "python",
   "name": "python3"
  },
  "language_info": {
   "codemirror_mode": {
    "name": "ipython",
    "version": 3
   },
   "file_extension": ".py",
   "mimetype": "text/x-python",
   "name": "python",
   "nbconvert_exporter": "python",
   "pygments_lexer": "ipython3",
   "version": "3.10.12"
  }
 },
 "nbformat": 4,
 "nbformat_minor": 5
}
