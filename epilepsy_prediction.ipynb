{
 "cells": [
  {
   "cell_type": "code",
   "execution_count": 3,
   "id": "e8691282",
   "metadata": {},
   "outputs": [],
   "source": [
    "import os\n",
    "import torch\n",
    "import pandas as pd"
   ]
  },
  {
   "cell_type": "code",
   "execution_count": 24,
   "id": "8eb71c69",
   "metadata": {},
   "outputs": [],
   "source": [
    "class EpilepsyDataset:\n",
    "    def __init__(self, path_to_data: str):\n",
    "        self.path = path_to_data\n",
    "        self.folders_with_patients = os.listdir(self.path)\n",
    "        \n",
    "        self.patients_data = []\n",
    "        for patient in self.folders_with_patients:\n",
    "            self.patients_data.append(os.listdir(os.path.join(self.path + patient)))\n",
    "        \n",
    "    def get_patients_data(self, patient: str) -> list[str]:\n",
    "        return os.listdir(os.path.join(self.path, patient))\n",
    "    \n",
    "    def get_patients_names(self) -> list[str]:\n",
    "        return os.listdir(self.path)\n",
    "    \n",
    "    def get_all_sensors_records_for_patient(self, patient: str) -> list[str]:\n",
    "        if patient not in self.get_patients_names():\n",
    "            raise ValueError('There is no such name')\n",
    "         \n",
    "        full_path_to_patient = os.path.join(self.path, patient) \n",
    "        \n",
    "        return [name for name in os.listdir(full_path_to_patient) \n",
    "                if os.path.isdir(os.path.join(full_path_to_patient, name)) \n",
    "                and name[0] != '.']\n",
    "    \n",
    "    def _get_sorted_segments(self, sensor_folder: str) -> list[list]:\n",
    "        \"\"\"\n",
    "        Get types of sensors from folder and sort its data by number of segment\n",
    "        \"\"\"\n",
    "        \n",
    "        delimiter = '_'\n",
    "        full_path = os.path.join(self.path, sensor_folder)\n",
    "        sensors_files_names = [file.split(delimiter) for file in os.listdir(full_path)]\n",
    "\n",
    "        cropped_sensors_files_names = [file[:-2] for file in sensors_files_names]\n",
    "        \n",
    "        index_of_parameters = 3\n",
    "        unique_parameters = set(file[index_of_parameters] for file in cropped_sensors_files_names)\n",
    "\n",
    "        return_data = []\n",
    "        for unique_item in unique_parameters:\n",
    "            data = [file for file in sensors_files_names if unique_item in file]\n",
    "            index_of_segments_number = 5\n",
    "            sorted_list = sorted(data, key=lambda x: int(x[index_of_segments_number].split('.')[0]))\n",
    "            return_data.append(['_'.join(file) for file in sorted_list])\n",
    "    \n",
    "        return return_data"
   ]
  },
  {
   "cell_type": "code",
   "execution_count": 25,
   "id": "12b1b9bf",
   "metadata": {},
   "outputs": [
    {
     "name": "stdout",
     "output_type": "stream",
     "text": [
      "['Empatica-EDA', 'Empatica-BVP', 'Byteflies-accY', 'Empatica-HR', 'Byteflies-emg', 'Byteflies-accX', 'Byteflies-accZ', 'Empatica-ACC', 'Empatica-TEMP']\n"
     ]
    }
   ],
   "source": [
    "dataset = EpilepsyDataset('/workspace/data_seerpy/data_seerpy/data/')\n",
    "\n",
    "# dataset._get_sorted_segments('MSEL_00172/Empatica-ACC/')\n",
    "\n",
    "print(dataset.get_all_sensors_records_for_patient('MSEL_00172'))"
   ]
  },
  {
   "cell_type": "code",
   "execution_count": null,
   "id": "cd1cc8f6",
   "metadata": {},
   "outputs": [],
   "source": []
  }
 ],
 "metadata": {
  "kernelspec": {
   "display_name": "Python 3 (ipykernel)",
   "language": "python",
   "name": "python3"
  },
  "language_info": {
   "codemirror_mode": {
    "name": "ipython",
    "version": 3
   },
   "file_extension": ".py",
   "mimetype": "text/x-python",
   "name": "python",
   "nbconvert_exporter": "python",
   "pygments_lexer": "ipython3",
   "version": "3.10.12"
  }
 },
 "nbformat": 4,
 "nbformat_minor": 5
}
