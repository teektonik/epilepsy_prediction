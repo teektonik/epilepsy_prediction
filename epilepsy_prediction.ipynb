{
 "cells": [
  {
   "cell_type": "code",
   "execution_count": 29,
   "id": "1cb89e9a",
   "metadata": {},
   "outputs": [],
   "source": [
    "import os\n",
    "import torch\n",
    "import torch.nn as nn\n",
    "from torch.utils.data import Dataset\n",
    "import numpy as np\n",
    "import pandas as pd"
   ]
  },
  {
   "cell_type": "code",
   "execution_count": 2,
   "id": "f26edb23",
   "metadata": {},
   "outputs": [],
   "source": [
    "class EpilepsyDataset(Dataset):\n",
    "    def __init__(self, path_to_data: str, verbose: bool=True):\n",
    "        if os.path.exists(path_to_data) is False:\n",
    "            raise ValueError('There is no such path')\n",
    "            \n",
    "        self.path = path_to_data\n",
    "        self.folders_with_patients = os.listdir(self.path)\n",
    "        self.verbose = verbose\n",
    "        \n",
    "        self.patients_data = []\n",
    "        for patient in self.folders_with_patients:\n",
    "            self.patients_data.append(os.listdir(os.path.join(self.path + patient)))\n",
    "            \n",
    "        self._sorted_data = self._get_sorted_data()\n",
    "        \n",
    "    def get_patients_data(self, patient: str) -> list[str]:\n",
    "        return os.listdir(os.path.join(self.path, patient))\n",
    "    \n",
    "    def get_patients_names(self) -> list[str]:\n",
    "        return os.listdir(self.path)\n",
    "    \n",
    "    def get_all_sensors_records_for_patient(self, patient: str) -> list[str]:\n",
    "        if patient not in self.get_patients_names():\n",
    "            raise ValueError('There is no such name')\n",
    "         \n",
    "        full_path_to_patient = os.path.join(self.path, patient) \n",
    "        \n",
    "        return [name for name in os.listdir(full_path_to_patient) \n",
    "                if os.path.isdir(os.path.join(full_path_to_patient, name)) \n",
    "                and name[0] != '.']\n",
    "    \n",
    "    def _get_sorted_segments(self, sensor_folder: str) -> list[list]:\n",
    "        \"\"\"\n",
    "        Get types of sensors from folder and sort its data by number of segment\n",
    "        \"\"\"\n",
    "        \n",
    "        delimiter = '_'\n",
    "        full_path = os.path.join(self.path, sensor_folder)\n",
    "        sensors_files_names = [file.split(delimiter) for file in os.listdir(full_path)]\n",
    "\n",
    "        cropped_sensors_files_names = [file[:-2] for file in sensors_files_names]\n",
    "        \n",
    "        index_of_parameters = 3\n",
    "        unique_parameters = set(file[index_of_parameters] for file in cropped_sensors_files_names)\n",
    "\n",
    "        return_data = []\n",
    "        for unique_item in unique_parameters:\n",
    "            data = [file for file in sensors_files_names if unique_item in file]\n",
    "            index_of_segments_number = 5\n",
    "            sorted_list = sorted(data, key=lambda x: int(x[index_of_segments_number].split('.')[0]))\n",
    "            return_data.append(['_'.join(file) for file in sorted_list])\n",
    "    \n",
    "        return return_data\n",
    "    \n",
    "    def _read_segment(self, path_to_segment: str):\n",
    "        return pd.read_parquet(path_to_segment)\n",
    "    \n",
    "    def _upsample(self, data: np.array, sample_rate: float, new_sample_rate: float, mode: str = 'bicubic'):\n",
    "        scale_factor = new_sample_rate / sample_rate\n",
    "        upsampler = nn.Upsample(scale_factor, mode)\n",
    "        return upsampler(data)\n",
    "    \n",
    "    def _get_sorted_data(self):\n",
    "        \"\"\"\n",
    "        Return path to segments sorted by its index\n",
    "        \"\"\"\n",
    "        self._dataset_data = []\n",
    "        print(self.folders_with_patients)\n",
    "        for patient in self.folders_with_patients:\n",
    "            if self.verbose:\n",
    "                print('Patient: {}'.format(patient))\n",
    "                \n",
    "            sensors = self.get_all_sensors_records_for_patient(patient)\n",
    "            data = []\n",
    "            for sensor in sensors:\n",
    "                records = self._get_sorted_segments(os.path.join(patient, sensor))\n",
    "                \n",
    "                full_path_records = []\n",
    "                for sensor_record in records:\n",
    "                    full_path_records.append(list(map(lambda x: os.path.join(self.path, patient, sensor, x), sensor_record)))                                \n",
    "                    data.append(full_path_records)\n",
    "                    \n",
    "            self._dataset_data.append(data)        \n",
    "\n",
    "        return self._dataset_data\n",
    "    \n",
    "    def __len__(self):\n",
    "        pass\n",
    "\n",
    "    def __getitem__(self, idx):\n",
    "        pass\n",
    "    \n",
    "    def _get_fullconnected_data_signals(self):\n",
    "        \"\"\"\n",
    "        Get full connected segments data from all sensor from folders\n",
    "        \"\"\"\n",
    "        combine_signals = {} \n",
    "        for patient in self._sorted_data:\n",
    "            for sensor in patient:\n",
    "                signal_combined_list =[]\n",
    "                \n",
    "                for signal in sensor:\n",
    "                    dfs=[]\n",
    "                    key_name = re.sub(\"_segment_\\d+.parquet\", \"\", signal[0])\n",
    "                    key_name = re.sub(\"/.+/.+/\", \"\", key_name)\n",
    "                    for segment in signal:\n",
    "                        df = pd.read_parquet(segment)\n",
    "\n",
    "                        # Append the dataframe to the list\n",
    "                        dfs.append(df)\n",
    "                    combined_signal = pd.concat(dfs, axis=0)\n",
    "                    print(key_name)\n",
    "                    print(combined_signal)\n",
    "                    combine_signals[key_name] = combined_signal\n",
    "        return combine_signals\n",
    "        "
   ]
  },
  {
   "cell_type": "code",
   "execution_count": 47,
   "id": "999acdc9",
   "metadata": {},
   "outputs": [],
   "source": [
    "from dataset_formatter import DatasetFormatter \n",
    "import dataset_formatter\n",
    "from importlib import reload\n",
    "#print(dataset._sorted_data)\n",
    "dataset =  DatasetFormatter('/workspace/data_seerpy/data_seerpy/data/', True)"
   ]
  },
  {
   "cell_type": "code",
   "execution_count": 11,
   "id": "c90c5057",
   "metadata": {},
   "outputs": [],
   "source": [
    "a = pd.read_parquet(\"/workspace/data_seerpy/data_seerpy/data/MSEL_01842/Empatica-TEMP/MSEL_01842_Empatica-TEMP_TEMP_segment_100.parquet\")"
   ]
  },
  {
   "cell_type": "code",
   "execution_count": 7,
   "id": "21767612",
   "metadata": {},
   "outputs": [
    {
     "name": "stderr",
     "output_type": "stream",
     "text": [
      "Patient: MSEL_01575: 100%|███████████████████████████████████████████████████████████████████████████████████████████████████████████████████████████████████████| 8/8 [04:38<00:00, 34.79s/it]\n",
      "Patient: MSEL_00501: 100%|███████████████████████████████████████████████████████████████████████████████████████████████████████████████████████████████████████| 8/8 [03:12<00:00, 24.01s/it]\n",
      "Patient: MSEL_01842: 100%|███████████████████████████████████████████████████████████████████████████████████████████████████████████████████████████████████████| 8/8 [03:35<00:00, 26.90s/it]\n",
      "Patient: MSEL_01097: 100%|███████████████████████████████████████████████████████████████████████████████████████████████████████████████████████████████████████| 8/8 [05:01<00:00, 37.71s/it]\n",
      "Patient: MSEL_01110-ICU: 100%|███████████████████████████████████████████████████████████████████████████████████████████████████████████████████████████████████| 8/8 [03:54<00:00, 29.33s/it]\n",
      "Patient: MSEL_00172: 100%|███████████████████████████████████████████████████████████████████████████████████████████████████████████████████████████████████████| 8/8 [03:54<00:00, 29.36s/it]\n",
      "Patient: MSEL_01844: 100%|███████████████████████████████████████████████████████████████████████████████████████████████████████████████████████████████████████| 8/8 [03:54<00:00, 29.29s/it]\n",
      "Patient: MSEL_01808: 100%|███████████████████████████████████████████████████████████████████████████████████████████████████████████████████████████████████████| 8/8 [04:19<00:00, 32.49s/it]\n",
      "Patient: MSEL_01838: 100%|███████████████████████████████████████████████████████████████████████████████████████████████████████████████████████████████████████| 8/8 [05:24<00:00, 40.60s/it]\n"
     ]
    }
   ],
   "source": [
    "dataset.preprocess('/workspace/new_data/', 180)"
   ]
  },
  {
   "cell_type": "code",
   "execution_count": 41,
   "id": "d7e77472",
   "metadata": {},
   "outputs": [
    {
     "name": "stderr",
     "output_type": "stream",
     "text": [
      "Patient: MSEL_01575: 100%|██████████████████████████████████████████████████████████████████████████████████████████████████████████████████████████████| 41079/41079 [01:39<00:00, 412.17it/s]\n",
      "Patient: MSEL_00501: 100%|██████████████████████████████████████████████████████████████████████████████████████████████████████████████████████████████| 29385/29385 [00:47<00:00, 624.37it/s]\n",
      "Patient: MSEL_01842: 100%|██████████████████████████████████████████████████████████████████████████████████████████████████████████████████████████████| 28081/28081 [00:54<00:00, 518.03it/s]\n",
      "Patient: MSEL_01097: 100%|██████████████████████████████████████████████████████████████████████████████████████████████████████████████████████████████| 39028/39028 [01:31<00:00, 426.63it/s]\n",
      "Patient: MSEL_01860: 100%|██████████████████████████████████████████████████████████████████████████████████████████████████████████████████████████████| 32296/32296 [01:33<00:00, 343.99it/s]\n",
      "Patient: MSEL_01110-ICU: 100%|██████████████████████████████████████████████████████████████████████████████████████████████████████████████████████████| 28103/28103 [01:40<00:00, 280.58it/s]\n",
      "Patient: MSEL_00172: 100%|██████████████████████████████████████████████████████████████████████████████████████████████████████████████████████████████| 23328/23328 [01:34<00:00, 245.59it/s]\n",
      "Patient: MSEL_01844: 100%|██████████████████████████████████████████████████████████████████████████████████████████████████████████████████████████████| 29992/29992 [02:35<00:00, 192.31it/s]\n",
      "Patient: MSEL_01808: 100%|██████████████████████████████████████████████████████████████████████████████████████████████████████████████████████████████| 30541/30541 [02:37<00:00, 193.40it/s]\n",
      "Patient: MSEL_01838: 100%|██████████████████████████████████████████████████████████████████████████████████████████████████████████████████████████████| 37876/37876 [03:47<00:00, 166.62it/s]"
     ]
    },
    {
     "name": "stdout",
     "output_type": "stream",
     "text": [
      "           Patient Segment Label\n",
      "0       MSEL_01575       0     0\n",
      "1       MSEL_01575       1     0\n",
      "2       MSEL_01575       2     0\n",
      "3       MSEL_01575       3     0\n",
      "4       MSEL_01575       4     0\n",
      "...            ...     ...   ...\n",
      "319704  MSEL_01838   37871     0\n",
      "319705  MSEL_01838   37872     0\n",
      "319706  MSEL_01838   37873     0\n",
      "319707  MSEL_01838   37874     0\n",
      "319708  MSEL_01838   37875     0\n",
      "\n",
      "[319709 rows x 3 columns]\n"
     ]
    },
    {
     "name": "stderr",
     "output_type": "stream",
     "text": [
      "\n"
     ]
    }
   ],
   "source": [
    "reload(dataset_formatter)\n",
    "dataset.segment_time = 180\n",
    "print(dataset.labels_set())"
   ]
  },
  {
   "cell_type": "code",
   "execution_count": null,
   "id": "8aba3920",
   "metadata": {},
   "outputs": [],
   "source": [
    "reload(dataset_formatter)\n",
    "dataset.simple_normilization()"
   ]
  },
  {
   "cell_type": "code",
   "execution_count": null,
   "id": "e0725641",
   "metadata": {},
   "outputs": [],
   "source": []
  }
 ],
 "metadata": {
  "kernelspec": {
   "display_name": "Python 3 (ipykernel)",
   "language": "python",
   "name": "python3"
  },
  "language_info": {
   "codemirror_mode": {
    "name": "ipython",
    "version": 3
   },
   "file_extension": ".py",
   "mimetype": "text/x-python",
   "name": "python",
   "nbconvert_exporter": "python",
   "pygments_lexer": "ipython3",
   "version": "3.10.12"
  }
 },
 "nbformat": 4,
 "nbformat_minor": 5
}
