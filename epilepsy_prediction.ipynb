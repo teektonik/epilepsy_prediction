{
 "cells": [
  {
   "cell_type": "code",
   "execution_count": null,
   "id": "62f0f966",
   "metadata": {},
   "outputs": [],
   "source": [
    "import os\n",
    "\n",
    "import numpy as np\n",
    "import pandas as pd\n",
    "\n",
    "import lightning as L\n",
    "from pytorch_lightning.loggers import WandbLogger\n",
    "from torch.utils.data import Dataset, DataLoader, random_split\n",
    "\n",
    "from model import BaselineModel\n",
    "from dataset import EpilepsyDataset\n",
    "from dataset_formatter import DatasetFormatter"
   ]
  },
  {
   "cell_type": "code",
   "execution_count": null,
   "id": "f6b1dcf0",
   "metadata": {},
   "outputs": [],
   "source": [
    "epilepsy_dataset = EpilepsyDataset(\n",
    "    '/workspace/labels.csv', \n",
    "    '/workspace/new_data/', \n",
    "    ['Acc x', 'Acc y', 'Acc z', 'Acc Mag', 'EDA', 'BVP'],\n",
    "    23040,\n",
    ")"
   ]
  },
  {
   "cell_type": "code",
   "execution_count": null,
   "id": "863bc208",
   "metadata": {},
   "outputs": [],
   "source": [
    "train_size = int(0.7 * len(epilepsy_dataset))\n",
    "test_size = len(epilepsy_dataset) - train_size\n",
    "\n",
    "train_dataset, test_dataset = random_split(epilepsy_dataset, [train_size, test_size])\n",
    "\n",
    "train_dataloader = DataLoader(epilepsy_dataset, batch_size=32, shuffle=True, num_workers=4)\n",
    "test_dataloader = DataLoader(test_dataset, batch_size=32, shuffle=False, num_workers=4)"
   ]
  },
  {
   "cell_type": "code",
   "execution_count": null,
   "id": "0d6ac806",
   "metadata": {},
   "outputs": [],
   "source": [
    "model = BaselineModel(7)"
   ]
  },
  {
   "cell_type": "code",
   "execution_count": null,
   "id": "8b147d70",
   "metadata": {},
   "outputs": [],
   "source": [
    "wandb_logger = WandbLogger()\n",
    "\n",
    "trainer = L.Trainer(max_epochs=13, logger=wandb_logger)\n",
    "trainer.fit(model=model, train_dataloaders=train_dataloader)"
   ]
  },
  {
   "cell_type": "code",
   "execution_count": null,
   "id": "e0610805",
   "metadata": {},
   "outputs": [],
   "source": [
    "trainer.test(dataloaders=test_dataloader, ckpt_path='best')"
   ]
  }
 ],
 "metadata": {
  "kernelspec": {
   "display_name": "Python 3 (ipykernel)",
   "language": "python",
   "name": "python3"
  },
  "language_info": {
   "codemirror_mode": {
    "name": "ipython",
    "version": 3
   },
   "file_extension": ".py",
   "mimetype": "text/x-python",
   "name": "python",
   "nbconvert_exporter": "python",
   "pygments_lexer": "ipython3",
   "version": "3.10.12"
  }
 },
 "nbformat": 4,
 "nbformat_minor": 5
}
